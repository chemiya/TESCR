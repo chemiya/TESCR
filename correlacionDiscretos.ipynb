{
 "cells": [
  {
   "cell_type": "code",
   "execution_count": 1,
   "metadata": {},
   "outputs": [],
   "source": [
    "import pandas as pd"
   ]
  },
  {
   "cell_type": "code",
   "execution_count": 2,
   "metadata": {},
   "outputs": [],
   "source": [
    "# Leer el conjunto de datos \n",
    "df = pd.read_csv('hour.csv')"
   ]
  },
  {
   "cell_type": "code",
   "execution_count": 3,
   "metadata": {},
   "outputs": [],
   "source": [
    "# Seleccionar las columnas \n",
    "columnas_evaluar = ['season', 'holiday', 'weekday', 'workingday', 'weathersit']\n",
    "subset_df = df[columnas_evaluar]"
   ]
  },
  {
   "cell_type": "code",
   "execution_count": 5,
   "metadata": {},
   "outputs": [
    {
     "data": {
      "text/html": [
       "<div>\n",
       "<style scoped>\n",
       "    .dataframe tbody tr th:only-of-type {\n",
       "        vertical-align: middle;\n",
       "    }\n",
       "\n",
       "    .dataframe tbody tr th {\n",
       "        vertical-align: top;\n",
       "    }\n",
       "\n",
       "    .dataframe thead th {\n",
       "        text-align: right;\n",
       "    }\n",
       "</style>\n",
       "<table border=\"1\" class=\"dataframe\">\n",
       "  <thead>\n",
       "    <tr style=\"text-align: right;\">\n",
       "      <th></th>\n",
       "      <th>season</th>\n",
       "      <th>holiday</th>\n",
       "      <th>weekday</th>\n",
       "      <th>workingday</th>\n",
       "      <th>weathersit</th>\n",
       "    </tr>\n",
       "  </thead>\n",
       "  <tbody>\n",
       "    <tr>\n",
       "      <th>0</th>\n",
       "      <td>1</td>\n",
       "      <td>0</td>\n",
       "      <td>6</td>\n",
       "      <td>0</td>\n",
       "      <td>1</td>\n",
       "    </tr>\n",
       "    <tr>\n",
       "      <th>1</th>\n",
       "      <td>1</td>\n",
       "      <td>0</td>\n",
       "      <td>6</td>\n",
       "      <td>0</td>\n",
       "      <td>1</td>\n",
       "    </tr>\n",
       "    <tr>\n",
       "      <th>2</th>\n",
       "      <td>1</td>\n",
       "      <td>0</td>\n",
       "      <td>6</td>\n",
       "      <td>0</td>\n",
       "      <td>1</td>\n",
       "    </tr>\n",
       "    <tr>\n",
       "      <th>3</th>\n",
       "      <td>1</td>\n",
       "      <td>0</td>\n",
       "      <td>6</td>\n",
       "      <td>0</td>\n",
       "      <td>1</td>\n",
       "    </tr>\n",
       "    <tr>\n",
       "      <th>4</th>\n",
       "      <td>1</td>\n",
       "      <td>0</td>\n",
       "      <td>6</td>\n",
       "      <td>0</td>\n",
       "      <td>1</td>\n",
       "    </tr>\n",
       "    <tr>\n",
       "      <th>...</th>\n",
       "      <td>...</td>\n",
       "      <td>...</td>\n",
       "      <td>...</td>\n",
       "      <td>...</td>\n",
       "      <td>...</td>\n",
       "    </tr>\n",
       "    <tr>\n",
       "      <th>17374</th>\n",
       "      <td>1</td>\n",
       "      <td>0</td>\n",
       "      <td>1</td>\n",
       "      <td>1</td>\n",
       "      <td>2</td>\n",
       "    </tr>\n",
       "    <tr>\n",
       "      <th>17375</th>\n",
       "      <td>1</td>\n",
       "      <td>0</td>\n",
       "      <td>1</td>\n",
       "      <td>1</td>\n",
       "      <td>2</td>\n",
       "    </tr>\n",
       "    <tr>\n",
       "      <th>17376</th>\n",
       "      <td>1</td>\n",
       "      <td>0</td>\n",
       "      <td>1</td>\n",
       "      <td>1</td>\n",
       "      <td>1</td>\n",
       "    </tr>\n",
       "    <tr>\n",
       "      <th>17377</th>\n",
       "      <td>1</td>\n",
       "      <td>0</td>\n",
       "      <td>1</td>\n",
       "      <td>1</td>\n",
       "      <td>1</td>\n",
       "    </tr>\n",
       "    <tr>\n",
       "      <th>17378</th>\n",
       "      <td>1</td>\n",
       "      <td>0</td>\n",
       "      <td>1</td>\n",
       "      <td>1</td>\n",
       "      <td>1</td>\n",
       "    </tr>\n",
       "  </tbody>\n",
       "</table>\n",
       "<p>17379 rows × 5 columns</p>\n",
       "</div>"
      ],
      "text/plain": [
       "       season  holiday  weekday  workingday  weathersit\n",
       "0           1        0        6           0           1\n",
       "1           1        0        6           0           1\n",
       "2           1        0        6           0           1\n",
       "3           1        0        6           0           1\n",
       "4           1        0        6           0           1\n",
       "...       ...      ...      ...         ...         ...\n",
       "17374       1        0        1           1           2\n",
       "17375       1        0        1           1           2\n",
       "17376       1        0        1           1           1\n",
       "17377       1        0        1           1           1\n",
       "17378       1        0        1           1           1\n",
       "\n",
       "[17379 rows x 5 columns]"
      ]
     },
     "execution_count": 5,
     "metadata": {},
     "output_type": "execute_result"
    }
   ],
   "source": [
    "subset_df"
   ]
  },
  {
   "cell_type": "code",
   "execution_count": 6,
   "metadata": {},
   "outputs": [],
   "source": [
    "# Calcular la tabla de contingencia\n",
    "contingency_table = pd.crosstab(subset_df['season'], [subset_df['holiday'], subset_df['weekday'], subset_df['workingday'], subset_df['weathersit']])\n"
   ]
  },
  {
   "cell_type": "code",
   "execution_count": 7,
   "metadata": {},
   "outputs": [
    {
     "name": "stdout",
     "output_type": "stream",
     "text": [
      "Tabla de contingencia:\n",
      "holiday       0                                          ...   1             \\\n",
      "weekday       0             1                2           ...   1      2       \n",
      "workingday    0             1                1           ...   0      0       \n",
      "weathersit    1    2   3    1    2   3  4    1    2   3  ...   2   3  1   2   \n",
      "season                                                   ...                  \n",
      "1           451  156  31  314  121  35  1  353  162  33  ...  46  12  6  16   \n",
      "2           405  169  49  342  172  58  0  374  185  65  ...   7   0  0   0   \n",
      "3           481   94  42  405  125  21  0  475  125  47  ...  39   4  0   0   \n",
      "4           428  149  47  299  194  35  0  314  206  91  ...  22   5  0   0   \n",
      "\n",
      "holiday                          \n",
      "weekday         3      4   5     \n",
      "workingday      0      0   0     \n",
      "weathersit  3   1  2   1   1  2  \n",
      "season                           \n",
      "1           1   0  0   0   0  0  \n",
      "2           0   0  0   0  18  6  \n",
      "3           0  23  1   0   0  0  \n",
      "4           0   0  0  48  24  0  \n",
      "\n",
      "[4 rows x 35 columns]\n"
     ]
    }
   ],
   "source": [
    "# Mostrar tabla de contingencia\n",
    "print(\"Tabla de contingencia:\")\n",
    "print(contingency_table)"
   ]
  },
  {
   "cell_type": "code",
   "execution_count": 9,
   "metadata": {},
   "outputs": [],
   "source": [
    "contingency_table.to_excel('tabla_contingencia.xlsx')"
   ]
  },
  {
   "cell_type": "code",
   "execution_count": 10,
   "metadata": {},
   "outputs": [],
   "source": [
    "columnas_correlaccion = ['season', 'holiday', 'weekday', 'workingday', 'weathersit', 'cnt']\n",
    "subset_df = df[columnas_correlaccion]\n"
   ]
  },
  {
   "cell_type": "code",
   "execution_count": 11,
   "metadata": {},
   "outputs": [],
   "source": [
    "# Calcular la matriz de correlación\n",
    "correlation_matrix = subset_df.corr()"
   ]
  },
  {
   "cell_type": "code",
   "execution_count": 13,
   "metadata": {},
   "outputs": [
    {
     "name": "stdout",
     "output_type": "stream",
     "text": [
      "Correlación entre los atributos discretos y la clase:\n",
      "season        0.178056\n",
      "holiday      -0.030927\n",
      "weekday       0.026900\n",
      "workingday    0.030284\n",
      "weathersit   -0.142426\n",
      "Name: cnt, dtype: float64\n"
     ]
    }
   ],
   "source": [
    "print(\"Correlación entre los atributos discretos y la clase:\")\n",
    "print(correlation_matrix['cnt'].drop('cnt'))  "
   ]
  },
  {
   "cell_type": "code",
   "execution_count": null,
   "metadata": {},
   "outputs": [],
   "source": []
  },
  {
   "cell_type": "code",
   "execution_count": null,
   "metadata": {},
   "outputs": [],
   "source": []
  }
 ],
 "metadata": {
  "kernelspec": {
   "display_name": "Python 3",
   "language": "python",
   "name": "python3"
  },
  "language_info": {
   "codemirror_mode": {
    "name": "ipython",
    "version": 3
   },
   "file_extension": ".py",
   "mimetype": "text/x-python",
   "name": "python",
   "nbconvert_exporter": "python",
   "pygments_lexer": "ipython3",
   "version": "3.10.5"
  }
 },
 "nbformat": 4,
 "nbformat_minor": 2
}
