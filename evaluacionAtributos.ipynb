{
 "cells": [
  {
   "cell_type": "code",
   "execution_count": 1,
   "metadata": {},
   "outputs": [],
   "source": [
    "import pandas as pd\n"
   ]
  },
  {
   "cell_type": "code",
   "execution_count": 2,
   "metadata": {},
   "outputs": [],
   "source": [
    "# Leer el conjunto de datos \n",
    "df = pd.read_csv('hour.csv')"
   ]
  },
  {
   "cell_type": "code",
   "execution_count": 3,
   "metadata": {},
   "outputs": [],
   "source": [
    "# Agrupar los registros por mes y calcular la media de la clase\n",
    "monthly_mean_cnt = df.groupby('mnth')['cnt'].mean()"
   ]
  },
  {
   "cell_type": "code",
   "execution_count": 4,
   "metadata": {},
   "outputs": [
    {
     "name": "stdout",
     "output_type": "stream",
     "text": [
      "Media de la variable 'cnt' por mes:\n",
      "mnth\n",
      "1      94.424773\n",
      "2     112.865026\n",
      "3     155.410726\n",
      "4     187.260960\n",
      "5     222.907258\n",
      "6     240.515278\n",
      "7     231.819892\n",
      "8     238.097627\n",
      "9     240.773138\n",
      "10    222.158511\n",
      "11    177.335421\n",
      "12    142.303439\n",
      "Name: cnt, dtype: float64\n"
     ]
    }
   ],
   "source": [
    "\n",
    "# Mostrar el resultado\n",
    "print(\"Media de la variable 'cnt' por mes:\")\n",
    "print(monthly_mean_cnt)\n"
   ]
  },
  {
   "cell_type": "code",
   "execution_count": 5,
   "metadata": {},
   "outputs": [],
   "source": [
    "monthly_mean_cnt.to_excel(\"mesMedia.xlsx\")"
   ]
  },
  {
   "cell_type": "code",
   "execution_count": 6,
   "metadata": {},
   "outputs": [],
   "source": [
    "# Agrupar los registros por hora y calcular la media de la clase\n",
    "hour_mean_cnt = df.groupby('hr')['cnt'].mean()"
   ]
  },
  {
   "cell_type": "code",
   "execution_count": 7,
   "metadata": {},
   "outputs": [
    {
     "name": "stdout",
     "output_type": "stream",
     "text": [
      "Media de la variable 'cnt' por hora:\n",
      "hr\n",
      "0      53.898072\n",
      "1      33.375691\n",
      "2      22.869930\n",
      "3      11.727403\n",
      "4       6.352941\n",
      "5      19.889819\n",
      "6      76.044138\n",
      "7     212.064649\n",
      "8     359.011004\n",
      "9     219.309491\n",
      "10    173.668501\n",
      "11    208.143054\n",
      "12    253.315934\n",
      "13    253.661180\n",
      "14    240.949246\n",
      "15    251.233196\n",
      "16    311.983562\n",
      "17    461.452055\n",
      "18    425.510989\n",
      "19    311.523352\n",
      "20    226.030220\n",
      "21    172.314560\n",
      "22    131.335165\n",
      "23     87.831044\n",
      "Name: cnt, dtype: float64\n"
     ]
    }
   ],
   "source": [
    "# Mostrar el resultado\n",
    "print(\"Media de la variable 'cnt' por hora:\")\n",
    "print(hour_mean_cnt)"
   ]
  },
  {
   "cell_type": "code",
   "execution_count": null,
   "metadata": {},
   "outputs": [],
   "source": [
    "hour_mean_cnt.to_excel(\"horaMedia.xlsx\")"
   ]
  }
 ],
 "metadata": {
  "kernelspec": {
   "display_name": "Python 3",
   "language": "python",
   "name": "python3"
  },
  "language_info": {
   "codemirror_mode": {
    "name": "ipython",
    "version": 3
   },
   "file_extension": ".py",
   "mimetype": "text/x-python",
   "name": "python",
   "nbconvert_exporter": "python",
   "pygments_lexer": "ipython3",
   "version": "3.10.5"
  }
 },
 "nbformat": 4,
 "nbformat_minor": 2
}
